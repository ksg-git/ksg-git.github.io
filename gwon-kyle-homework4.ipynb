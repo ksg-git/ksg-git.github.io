{
 "cells": [
  {
   "cell_type": "markdown",
   "id": "relevant-kernel",
   "metadata": {},
   "source": [
    "# Homework 4"
   ]
  },
  {
   "cell_type": "code",
   "execution_count": 2,
   "id": "applied-albert",
   "metadata": {},
   "outputs": [],
   "source": [
    "# import things we need\n",
    "import matplotlib.pyplot as plt\n",
    "import numpy as np\n",
    "import pandas as pd\n",
    "import ipywidgets"
   ]
  },
  {
   "cell_type": "code",
   "execution_count": 3,
   "id": "compact-formula",
   "metadata": {},
   "outputs": [],
   "source": [
    "ufos = pd.read_csv(\"ufo-scrubbed-geocoded-time-standardized-00.csv\",\n",
    "                  names = [\"date\", \"city\", \"state\", \"country\",\n",
    "                          \"shape\", \"duration_seconds\", \"duration\",\n",
    "                          \"comment\", \"report_date\", \"latitude\", \"longitude\"],\n",
    "                  parse_dates = [\"date\", \"report_date\"]) # parse_date is saying which columns should be consdidered date"
   ]
  },
  {
   "cell_type": "code",
   "execution_count": 4,
   "id": "prescribed-moment",
   "metadata": {
    "collapsed": true
   },
   "outputs": [
    {
     "data": {
      "text/html": [
       "<div>\n",
       "<style scoped>\n",
       "    .dataframe tbody tr th:only-of-type {\n",
       "        vertical-align: middle;\n",
       "    }\n",
       "\n",
       "    .dataframe tbody tr th {\n",
       "        vertical-align: top;\n",
       "    }\n",
       "\n",
       "    .dataframe thead th {\n",
       "        text-align: right;\n",
       "    }\n",
       "</style>\n",
       "<table border=\"1\" class=\"dataframe\">\n",
       "  <thead>\n",
       "    <tr style=\"text-align: right;\">\n",
       "      <th></th>\n",
       "      <th>date</th>\n",
       "      <th>city</th>\n",
       "      <th>state</th>\n",
       "      <th>country</th>\n",
       "      <th>shape</th>\n",
       "      <th>duration_seconds</th>\n",
       "      <th>duration</th>\n",
       "      <th>comment</th>\n",
       "      <th>report_date</th>\n",
       "      <th>latitude</th>\n",
       "      <th>longitude</th>\n",
       "    </tr>\n",
       "  </thead>\n",
       "  <tbody>\n",
       "    <tr>\n",
       "      <th>0</th>\n",
       "      <td>1949-10-10 20:30:00</td>\n",
       "      <td>san marcos</td>\n",
       "      <td>tx</td>\n",
       "      <td>us</td>\n",
       "      <td>cylinder</td>\n",
       "      <td>2700.0</td>\n",
       "      <td>45 minutes</td>\n",
       "      <td>This event took place in early fall around 194...</td>\n",
       "      <td>2004-04-27</td>\n",
       "      <td>29.883056</td>\n",
       "      <td>-97.941111</td>\n",
       "    </tr>\n",
       "    <tr>\n",
       "      <th>1</th>\n",
       "      <td>1949-10-10 21:00:00</td>\n",
       "      <td>lackland afb</td>\n",
       "      <td>tx</td>\n",
       "      <td>unknown</td>\n",
       "      <td>light</td>\n",
       "      <td>7200.0</td>\n",
       "      <td>1-2 hrs</td>\n",
       "      <td>1949 Lackland AFB&amp;#44 TX.  Lights racing acros...</td>\n",
       "      <td>2005-12-16</td>\n",
       "      <td>29.384210</td>\n",
       "      <td>-98.581082</td>\n",
       "    </tr>\n",
       "    <tr>\n",
       "      <th>2</th>\n",
       "      <td>1955-10-10 17:00:00</td>\n",
       "      <td>chester (uk/england)</td>\n",
       "      <td>unkonwn</td>\n",
       "      <td>gb</td>\n",
       "      <td>circle</td>\n",
       "      <td>20.0</td>\n",
       "      <td>20 seconds</td>\n",
       "      <td>Green/Orange circular disc over Chester&amp;#44 En...</td>\n",
       "      <td>2008-01-21</td>\n",
       "      <td>53.200000</td>\n",
       "      <td>-2.916667</td>\n",
       "    </tr>\n",
       "    <tr>\n",
       "      <th>3</th>\n",
       "      <td>1956-10-10 21:00:00</td>\n",
       "      <td>edna</td>\n",
       "      <td>tx</td>\n",
       "      <td>us</td>\n",
       "      <td>circle</td>\n",
       "      <td>20.0</td>\n",
       "      <td>1/2 hour</td>\n",
       "      <td>My older brother and twin sister were leaving ...</td>\n",
       "      <td>2004-01-17</td>\n",
       "      <td>28.978333</td>\n",
       "      <td>-96.645833</td>\n",
       "    </tr>\n",
       "    <tr>\n",
       "      <th>4</th>\n",
       "      <td>1960-10-10 20:00:00</td>\n",
       "      <td>kaneohe</td>\n",
       "      <td>hi</td>\n",
       "      <td>us</td>\n",
       "      <td>light</td>\n",
       "      <td>900.0</td>\n",
       "      <td>15 minutes</td>\n",
       "      <td>AS a Marine 1st Lt. flying an FJ4B fighter/att...</td>\n",
       "      <td>2004-01-22</td>\n",
       "      <td>21.418056</td>\n",
       "      <td>-157.803611</td>\n",
       "    </tr>\n",
       "    <tr>\n",
       "      <th>...</th>\n",
       "      <td>...</td>\n",
       "      <td>...</td>\n",
       "      <td>...</td>\n",
       "      <td>...</td>\n",
       "      <td>...</td>\n",
       "      <td>...</td>\n",
       "      <td>...</td>\n",
       "      <td>...</td>\n",
       "      <td>...</td>\n",
       "      <td>...</td>\n",
       "      <td>...</td>\n",
       "    </tr>\n",
       "    <tr>\n",
       "      <th>80327</th>\n",
       "      <td>2013-09-09 21:15:00</td>\n",
       "      <td>nashville</td>\n",
       "      <td>tn</td>\n",
       "      <td>us</td>\n",
       "      <td>light</td>\n",
       "      <td>600.0</td>\n",
       "      <td>10 minutes</td>\n",
       "      <td>Round from the distance/slowly changing colors...</td>\n",
       "      <td>2013-09-30</td>\n",
       "      <td>36.165833</td>\n",
       "      <td>-86.784444</td>\n",
       "    </tr>\n",
       "    <tr>\n",
       "      <th>80328</th>\n",
       "      <td>2013-09-09 22:00:00</td>\n",
       "      <td>boise</td>\n",
       "      <td>id</td>\n",
       "      <td>us</td>\n",
       "      <td>circle</td>\n",
       "      <td>1200.0</td>\n",
       "      <td>20 minutes</td>\n",
       "      <td>Boise&amp;#44 ID&amp;#44 spherical&amp;#44 20 min&amp;#44 10 r...</td>\n",
       "      <td>2013-09-30</td>\n",
       "      <td>43.613611</td>\n",
       "      <td>-116.202500</td>\n",
       "    </tr>\n",
       "    <tr>\n",
       "      <th>80329</th>\n",
       "      <td>2013-09-09 22:00:00</td>\n",
       "      <td>napa</td>\n",
       "      <td>ca</td>\n",
       "      <td>us</td>\n",
       "      <td>other</td>\n",
       "      <td>1200.0</td>\n",
       "      <td>hour</td>\n",
       "      <td>Napa UFO&amp;#44</td>\n",
       "      <td>2013-09-30</td>\n",
       "      <td>38.297222</td>\n",
       "      <td>-122.284444</td>\n",
       "    </tr>\n",
       "    <tr>\n",
       "      <th>80330</th>\n",
       "      <td>2013-09-09 22:20:00</td>\n",
       "      <td>vienna</td>\n",
       "      <td>va</td>\n",
       "      <td>us</td>\n",
       "      <td>circle</td>\n",
       "      <td>5.0</td>\n",
       "      <td>5 seconds</td>\n",
       "      <td>Saw a five gold lit cicular craft moving fastl...</td>\n",
       "      <td>2013-09-30</td>\n",
       "      <td>38.901111</td>\n",
       "      <td>-77.265556</td>\n",
       "    </tr>\n",
       "    <tr>\n",
       "      <th>80331</th>\n",
       "      <td>2013-09-09 23:00:00</td>\n",
       "      <td>edmond</td>\n",
       "      <td>ok</td>\n",
       "      <td>us</td>\n",
       "      <td>cigar</td>\n",
       "      <td>1020.0</td>\n",
       "      <td>17 minutes</td>\n",
       "      <td>2 witnesses 2  miles apart&amp;#44 Red &amp;amp; White...</td>\n",
       "      <td>2013-09-30</td>\n",
       "      <td>35.652778</td>\n",
       "      <td>-97.477778</td>\n",
       "    </tr>\n",
       "  </tbody>\n",
       "</table>\n",
       "<p>80332 rows × 11 columns</p>\n",
       "</div>"
      ],
      "text/plain": [
       "                     date                  city    state  country     shape  \\\n",
       "0     1949-10-10 20:30:00            san marcos       tx       us  cylinder   \n",
       "1     1949-10-10 21:00:00          lackland afb       tx  unknown     light   \n",
       "2     1955-10-10 17:00:00  chester (uk/england)  unkonwn       gb    circle   \n",
       "3     1956-10-10 21:00:00                  edna       tx       us    circle   \n",
       "4     1960-10-10 20:00:00               kaneohe       hi       us     light   \n",
       "...                   ...                   ...      ...      ...       ...   \n",
       "80327 2013-09-09 21:15:00             nashville       tn       us     light   \n",
       "80328 2013-09-09 22:00:00                 boise       id       us    circle   \n",
       "80329 2013-09-09 22:00:00                  napa       ca       us     other   \n",
       "80330 2013-09-09 22:20:00                vienna       va       us    circle   \n",
       "80331 2013-09-09 23:00:00                edmond       ok       us     cigar   \n",
       "\n",
       "       duration_seconds    duration  \\\n",
       "0                2700.0  45 minutes   \n",
       "1                7200.0     1-2 hrs   \n",
       "2                  20.0  20 seconds   \n",
       "3                  20.0    1/2 hour   \n",
       "4                 900.0  15 minutes   \n",
       "...                 ...         ...   \n",
       "80327             600.0  10 minutes   \n",
       "80328            1200.0  20 minutes   \n",
       "80329            1200.0        hour   \n",
       "80330               5.0   5 seconds   \n",
       "80331            1020.0  17 minutes   \n",
       "\n",
       "                                                 comment report_date  \\\n",
       "0      This event took place in early fall around 194...  2004-04-27   \n",
       "1      1949 Lackland AFB&#44 TX.  Lights racing acros...  2005-12-16   \n",
       "2      Green/Orange circular disc over Chester&#44 En...  2008-01-21   \n",
       "3      My older brother and twin sister were leaving ...  2004-01-17   \n",
       "4      AS a Marine 1st Lt. flying an FJ4B fighter/att...  2004-01-22   \n",
       "...                                                  ...         ...   \n",
       "80327  Round from the distance/slowly changing colors...  2013-09-30   \n",
       "80328  Boise&#44 ID&#44 spherical&#44 20 min&#44 10 r...  2013-09-30   \n",
       "80329                                       Napa UFO&#44  2013-09-30   \n",
       "80330  Saw a five gold lit cicular craft moving fastl...  2013-09-30   \n",
       "80331  2 witnesses 2  miles apart&#44 Red &amp; White...  2013-09-30   \n",
       "\n",
       "        latitude   longitude  \n",
       "0      29.883056  -97.941111  \n",
       "1      29.384210  -98.581082  \n",
       "2      53.200000   -2.916667  \n",
       "3      28.978333  -96.645833  \n",
       "4      21.418056 -157.803611  \n",
       "...          ...         ...  \n",
       "80327  36.165833  -86.784444  \n",
       "80328  43.613611 -116.202500  \n",
       "80329  38.297222 -122.284444  \n",
       "80330  38.901111  -77.265556  \n",
       "80331  35.652778  -97.477778  \n",
       "\n",
       "[80332 rows x 11 columns]"
      ]
     },
     "execution_count": 4,
     "metadata": {},
     "output_type": "execute_result"
    }
   ],
   "source": [
    "# (From lecture)\n",
    "ufos = ufos.fillna({'country':'unknown', 'state':'unkonwn', 'shape':'unknown'})\n",
    "ufos"
   ]
  },
  {
   "cell_type": "markdown",
   "id": "gothic-respect",
   "metadata": {},
   "source": [
    "Just for my use\n",
    "\n",
    "    Using traitlets and/or widgets build a notebook that:\n",
    "-Allows the user to change the x and y fields on a scatter plot from the UFO dataset.  Here the \"fields\" are the names of the columns in the dataset.  (Do you want the user to be able to pick any 2 columns?  Or only certain columns?  Why or why not?). You must support the selection of at least 1 categorical column and at least 1 numerical column in for each of x and y.  Note: you don't have to support both axis having a categorical variable (unless you really want to!).\n",
    "\n",
    "-Allows the user to pick their colormap.  In class we used the log of the duration in seconds as our color scaling, you can use this or something else (or if you *really* want to get fancy you can let the user decide by using a widget!)"
   ]
  },
  {
   "cell_type": "markdown",
   "id": "dominican-housing",
   "metadata": {},
   "source": [
    "# Plot 1"
   ]
  },
  {
   "cell_type": "code",
   "execution_count": 9,
   "id": "powerful-firewall",
   "metadata": {},
   "outputs": [],
   "source": [
    "nSamples = 1000\n",
    "# np.random.seeds(Int)\n",
    "randomIndices = np.random.choice(range(len(ufos)-1), nSamples, replace=False) # replace=False is to not double count indices\n",
    "ufosDS = ufos.loc[randomIndices]"
   ]
  },
  {
   "cell_type": "code",
   "execution_count": 1,
   "id": "planned-emission",
   "metadata": {},
   "outputs": [
    {
     "ename": "NameError",
     "evalue": "name 'ipywidgets' is not defined",
     "output_type": "error",
     "traceback": [
      "\u001b[1;31m---------------------------------------------------------------------------\u001b[0m",
      "\u001b[1;31mNameError\u001b[0m                                 Traceback (most recent call last)",
      "\u001b[1;32m<ipython-input-1-bd7f29aefaaa>\u001b[0m in \u001b[0;36m<module>\u001b[1;34m\u001b[0m\n\u001b[0;32m      1\u001b[0m \u001b[1;31m# Credit for giving idea how to tackle this: https://kapernikov.com/ipywidgets-with-matplotlib/\u001b[0m\u001b[1;33m\u001b[0m\u001b[1;33m\u001b[0m\u001b[1;33m\u001b[0m\u001b[0m\n\u001b[1;32m----> 2\u001b[1;33m \u001b[1;33m@\u001b[0m\u001b[0mipywidgets\u001b[0m\u001b[1;33m.\u001b[0m\u001b[0minteract\u001b[0m\u001b[1;33m(\u001b[0m\u001b[0mstyle\u001b[0m\u001b[1;33m=\u001b[0m\u001b[0mplt\u001b[0m\u001b[1;33m.\u001b[0m\u001b[0mstyle\u001b[0m\u001b[1;33m.\u001b[0m\u001b[0mavailable\u001b[0m\u001b[1;33m,\u001b[0m \u001b[0mx_axis\u001b[0m\u001b[1;33m=\u001b[0m\u001b[1;33m[\u001b[0m\u001b[1;34m\"date\"\u001b[0m\u001b[1;33m,\u001b[0m \u001b[1;34m'longitude'\u001b[0m\u001b[1;33m]\u001b[0m\u001b[1;33m,\u001b[0m \u001b[0my_axis\u001b[0m\u001b[1;33m=\u001b[0m\u001b[1;33m[\u001b[0m\u001b[1;34m'shape'\u001b[0m\u001b[1;33m,\u001b[0m\u001b[1;34m'latitude'\u001b[0m\u001b[1;33m]\u001b[0m\u001b[1;33m)\u001b[0m\u001b[1;33m\u001b[0m\u001b[1;33m\u001b[0m\u001b[0m\n\u001b[0m\u001b[0;32m      3\u001b[0m \u001b[1;32mdef\u001b[0m \u001b[0mufo_plot\u001b[0m\u001b[1;33m(\u001b[0m\u001b[0mstyle\u001b[0m\u001b[1;33m,\u001b[0m \u001b[0mx_axis\u001b[0m\u001b[1;33m,\u001b[0m \u001b[0my_axis\u001b[0m\u001b[1;33m)\u001b[0m\u001b[1;33m:\u001b[0m\u001b[1;33m\u001b[0m\u001b[1;33m\u001b[0m\u001b[0m\n\u001b[0;32m      4\u001b[0m     \u001b[1;32mwith\u001b[0m \u001b[0mplt\u001b[0m\u001b[1;33m.\u001b[0m\u001b[0mstyle\u001b[0m\u001b[1;33m.\u001b[0m\u001b[0mcontext\u001b[0m\u001b[1;33m(\u001b[0m\u001b[0mstyle\u001b[0m\u001b[1;33m)\u001b[0m\u001b[1;33m:\u001b[0m\u001b[1;33m\u001b[0m\u001b[1;33m\u001b[0m\u001b[0m\n\u001b[0;32m      5\u001b[0m         \u001b[0mplt\u001b[0m\u001b[1;33m.\u001b[0m\u001b[0mplot\u001b[0m\u001b[1;33m(\u001b[0m\u001b[0mufosDS\u001b[0m\u001b[1;33m[\u001b[0m\u001b[0mx_axis\u001b[0m\u001b[1;33m]\u001b[0m\u001b[1;33m,\u001b[0m \u001b[0mufosDS\u001b[0m\u001b[1;33m[\u001b[0m\u001b[0my_axis\u001b[0m\u001b[1;33m]\u001b[0m\u001b[1;33m,\u001b[0m \u001b[1;34m'.'\u001b[0m\u001b[1;33m)\u001b[0m\u001b[1;33m\u001b[0m\u001b[1;33m\u001b[0m\u001b[0m\n",
      "\u001b[1;31mNameError\u001b[0m: name 'ipywidgets' is not defined"
     ]
    }
   ],
   "source": [
    "# Credit for giving idea how to tackle this: https://kapernikov.com/ipywidgets-with-matplotlib/\n",
    "@ipywidgets.interact(style=plt.style.available, x_axis=[\"date\", 'longitude'], y_axis=['shape','latitude'])\n",
    "def ufo_plot(style, x_axis, y_axis):\n",
    "    with plt.style.context(style):\n",
    "        plt.plot(ufosDS[x_axis], ufosDS[y_axis], '.')"
   ]
  },
  {
   "cell_type": "markdown",
   "id": "editorial-specific",
   "metadata": {},
   "source": [
    "So above is my first \"prototype\". Since I'm working with a desktop, I thought I could skip the sampling step.\n",
    "I began with one of catergorical and numerical datatypes. At first I was thinking of various things, but the initial focus was on making it at least plot.\n",
    "\n",
    "Once it worked like a magic(it really did for me), I moved on to think what are some columns that doesn't fit; e.g. I wouldn't put columns related to time on the y axis."
   ]
  },
  {
   "cell_type": "markdown",
   "id": "tropical-waters",
   "metadata": {},
   "source": [
    "With the list of the columns, I started to sort which column may belong to which axis. However, since this is a scatter plot, I felt there aren't restrictions like time having to be on x axis(although it might look better).\n",
    "\n",
    "\n",
    "    \"date\" - still feel like time should be on x axis\n",
    "\n",
    "    \"city\" - both\n",
    "\n",
    "    \"state\" - outside of U.S. are all shown as unknown, so leaving this out\n",
    "   \n",
    "    \"country\" - both\n",
    "\n",
    "    \"shape\" - both\n",
    "   \n",
    "    \"duration_seconds\" - y axis because it's about \"how long\", not \"when\".\n",
    "\n",
    "    \"duration\" - unit differences in the csv could be misleading!\n",
    "\n",
    "    \"comment\" - Not Applicable\n",
    "\n",
    "    \"report_date\" - Very similar to \"date\" so leaving it out for now\n",
    "\n",
    "    \"latitude\" - y axis; is there a reason to roatate the map?\n",
    "\n",
    "    \"longitude\" - x axis\n"
   ]
  },
  {
   "cell_type": "markdown",
   "id": "completed-wrestling",
   "metadata": {},
   "source": [
    "So then I remade the plot"
   ]
  },
  {
   "cell_type": "code",
   "execution_count": 6,
   "id": "illegal-preference",
   "metadata": {
    "collapsed": true
   },
   "outputs": [
    {
     "data": {
      "application/vnd.jupyter.widget-view+json": {
       "model_id": "841369feb3c446d9811d58e3a1802ffe",
       "version_major": 2,
       "version_minor": 0
      },
      "text/plain": [
       "interactive(children=(Dropdown(description='style', options=('Solarize_Light2', '_classic_test_patch', 'bmh', …"
      ]
     },
     "metadata": {},
     "output_type": "display_data"
    }
   ],
   "source": [
    "#@ipywidgets.interact(style=plt.style.available,\n",
    "#                     x_axis=['city', 'counrty', 'shape', 'longitude'],\n",
    "#                     y_axis=['date', 'city', 'country', 'shape', 'duration_seconds', 'latitude'])\n",
    "#def ufo_plot2(style, x_axis, y_axis):\n",
    "#    with plt.style.context(style):\n",
    "#        plt.plot(ufos[x_axis], ufos[y_axis], '.')"
   ]
  },
  {
   "cell_type": "markdown",
   "id": "color-discharge",
   "metadata": {},
   "source": [
    "I'm not sure what the problem is. I only added more selections in x and y axis, but it seems like it breaks when both axis are the same?"
   ]
  },
  {
   "cell_type": "code",
   "execution_count": 19,
   "id": "massive-temperature",
   "metadata": {
    "scrolled": false
   },
   "outputs": [
    {
     "data": {
      "application/vnd.jupyter.widget-view+json": {
       "model_id": "d1b59699560e426b9092c215db7683f3",
       "version_major": 2,
       "version_minor": 0
      },
      "text/plain": [
       "interactive(children=(Dropdown(description='style', options=('Solarize_Light2', '_classic_test_patch', 'bmh', …"
      ]
     },
     "metadata": {},
     "output_type": "display_data"
    }
   ],
   "source": [
    "@ipywidgets.interact(style=plt.style.available,\n",
    "                     \n",
    "                     x_axis=['city', 'country', 'shape', 'longitude'],\n",
    "                     y_axis=['date', 'duration_seconds', 'latitude'])\n",
    "def ufo_plot2(style, x_axis, y_axis):\n",
    "    with plt.style.context(style):\n",
    "        plt.xticks(rotation='vertical')\n",
    "        if y_axis == 'duration_seconds':\n",
    "            plt.yscale('log')\n",
    "        plt.plot(ufosDS[x_axis], ufosDS[y_axis], '.')\n",
    "        "
   ]
  },
  {
   "cell_type": "markdown",
   "id": "difficult-novel",
   "metadata": {},
   "source": [
    "I really thought I wouldn't need to down sample. It seems it looked like it's breaking/bugging because there are too much data to process-maybe it is time to go get threadripper I guess-or learn to go get cup of tea. Thing is, I thought I'd be fine because I remember doing bootstrapping of 50k+ samples last semester and it worked alright back then.\n",
    "\n",
    "Putting my love for i7 aside, I did realize that some of the combinations of x and y axis seemed a little odd(?). Of course the same x and y would just create a line, so I meant for some other cases which resulted in taking out a few more choices of columns. Also I really couldn't figure out what to do about the names overlapping without making the figsize cover the whole screen.\n",
    "\n",
    "Another point of improvement was on the duration -> I tried the if statement right after I wrote this. I think yscale was more needed in case of duration compared to other cases. Then I started working on colormap."
   ]
  },
  {
   "cell_type": "code",
   "execution_count": 37,
   "id": "excellent-ireland",
   "metadata": {
    "scrolled": false
   },
   "outputs": [
    {
     "data": {
      "application/vnd.jupyter.widget-view+json": {
       "model_id": "deacf1f02a684563b45c2da4e74cc936",
       "version_major": 2,
       "version_minor": 0
      },
      "text/plain": [
       "interactive(children=(Dropdown(description='color', options=('Accent', 'Accent_r', 'Blues', 'Blues_r', 'BrBG',…"
      ]
     },
     "metadata": {},
     "output_type": "display_data"
    }
   ],
   "source": [
    "@ipywidgets.interact(\n",
    "    #style=plt.style.available,\n",
    "                     color=plt.colormaps(),\n",
    "                     x_axis=['city', 'country', 'shape', 'longitude'],\n",
    "                     log_choice=['duration_seconds', 'longitude', 'latitude'],\n",
    "                     y_axis=['date', 'duration_seconds', 'latitude'])\n",
    "def ufo_plot(color, x_axis, y_axis, log_choice):\n",
    "    #with plt.style.context(style):\n",
    "    plt.xticks(rotation='vertical')\n",
    "#    if y_axis == 'duration_seconds':\n",
    "#        plt.yscale('log')\n",
    "    plt.scatter(ufosDS[x_axis], ufosDS[y_axis],\n",
    "                c=np.log10(ufosDS[log_choice]),\n",
    "                cmap=color)"
   ]
  },
  {
   "cell_type": "markdown",
   "id": "static-quarter",
   "metadata": {},
   "source": [
    "A few things. First, I thought the colormap referred to style when I began the assignment, realized it wasn't while doing the cmap portion. Thought it'd be a cool addition, but it seems that it interfered with cmap thus had to be removed. Second, there are only a handful numerical data contained in the csv: date(technically), duration in seconds, duration, and lastly longitude and latitude.\n",
    "\n",
    "Because how the date was written, it wasn't going to work. After checking the duration, I forgot about the unit which is string, which caused problem in the log function. And so I was left with the three choices: duration_seconds, long and latitude. I left them as widget to be played with, but I kind of have no idea why would someone want to take log of long/latitude for colormap... Anyways, it's there.\n",
    "\n",
    "Overall, the graph works in a closest way I intended, yet I cannot think of way to improve the x axis label so far."
   ]
  },
  {
   "cell_type": "markdown",
   "id": "absent-leonard",
   "metadata": {},
   "source": [
    "# Plot 2"
   ]
  },
  {
   "cell_type": "code",
   "execution_count": 36,
   "id": "prompt-founder",
   "metadata": {},
   "outputs": [
    {
     "data": {
      "text/plain": [
       "<Figure size 432x288 with 0 Axes>"
      ]
     },
     "metadata": {},
     "output_type": "display_data"
    },
    {
     "data": {
      "image/png": "[encoded data removed]",
      "text/plain": [
       "<Figure size 1440x720 with 1 Axes>"
      ]
     },
     "metadata": {
      "needs_background": "light"
     },
     "output_type": "display_data"
    }
   ],
   "source": [
    "# Starting with the given hint\n",
    "plt.clf()\n",
    "fig, ax = plt.subplots(figsize=(20,10))\n",
    "ufosDS.hist(column='longitude', ax=ax)\n",
    "plt.show()"
   ]
  },
  {
   "cell_type": "markdown",
   "id": "exempt-standing",
   "metadata": {},
   "source": [
    "After trying to figure out how the hint works, I made a frame of the code I'll be working around. The website I sourced earlier helped in this case also for creating the bar widget. I decided to go with 20 for now.\n",
    "\n",
    "I needed to learn some keys for .hist first; looked at recommended links on hw page.\n",
    "source: https://pandas.pydata.org/pandas-docs/stable/reference/api/pandas.DataFrame.hist.html"
   ]
  },
  {
   "cell_type": "code",
   "execution_count": 73,
   "id": "classified-somalia",
   "metadata": {},
   "outputs": [
    {
     "data": {
      "application/vnd.jupyter.widget-view+json": {
       "model_id": "e98035106ae94b80a641b9a1e1ab7212",
       "version_major": 2,
       "version_minor": 0
      },
      "text/plain": [
       "interactive(children=(Dropdown(description='x_hist', options=('duration_seconds', 'latitude'), value='duration…"
      ]
     },
     "metadata": {},
     "output_type": "display_data"
    }
   ],
   "source": [
    "@ipywidgets.interact(x_hist=['duration_seconds', 'latitude'], \n",
    "                     hist_bins=(10,30,1))\n",
    "def ufo_hist(x_hist, hist_bins):\n",
    "    fig, ax = plt.subplots(figsize=(20,10))\n",
    "    ufosDS.hist(x_hist, bins=hist_bins, ax=ax)\n",
    "    plt.show()"
   ]
  },
  {
   "cell_type": "code",
   "execution_count": 53,
   "id": "subjective-springer",
   "metadata": {},
   "outputs": [
    {
     "data": {
      "text/plain": [
       "array([<matplotlib.axes._subplots.AxesSubplot object at 0x0000027D251AC248>],\n",
       "      dtype=object)"
      ]
     },
     "execution_count": 53,
     "metadata": {},
     "output_type": "execute_result"
    },
    {
     "data": {
      "image/png": "[encoded data removed]",
      "text/plain": [
       "<Figure size 1440x720 with 1 Axes>"
      ]
     },
     "metadata": {
      "needs_background": "light"
     },
     "output_type": "display_data"
    }
   ],
   "source": [
    "fig, ax = plt.subplots(figsize=(20,10))\n",
    "# so from this, I know that I have to pass in string of the column name\n",
    "ufosDS.hist('date', bins=12, ax=ax)"
   ]
  },
  {
   "cell_type": "markdown",
   "id": "departmental-munich",
   "metadata": {},
   "source": [
    "Was running into problems. Some of the error logs:\n",
    "\n",
    "[  ValueError: hist method requires numerical or datetime columns, nothing to plot. ]\n",
    "This happened when I tried with categorical data. Which made sense, I can't plot with just the categories even in excel. I needed to figure a way to count the categories for the chart.\n",
    "\n",
    "[ None of `[]` are in the `[columns]` (something like that) ]"
   ]
  },
  {
   "cell_type": "code",
   "execution_count": 77,
   "id": "individual-basement",
   "metadata": {},
   "outputs": [
    {
     "data": {
      "text/plain": [
       "<matplotlib.axes._subplots.AxesSubplot at 0x27d4309c608>"
      ]
     },
     "execution_count": 77,
     "metadata": {},
     "output_type": "execute_result"
    },
    {
     "data": {
      "image/png": "[encoded data removed]",
      "text/plain": [
       "<Figure size 1440x720 with 1 Axes>"
      ]
     },
     "metadata": {
      "needs_background": "light"
     },
     "output_type": "display_data"
    }
   ],
   "source": [
    "# credit to https://stackoverflow.com/questions/31029560/plotting-categorical-data-with-pandas-and-matplotlib\n",
    "fig, ax = plt.subplots(figsize=(20,10))\n",
    "ufosDS['shape'].value_counts().plot(kind='bar')"
   ]
  },
  {
   "cell_type": "markdown",
   "id": "conscious-penguin",
   "metadata": {},
   "source": [
    "It seems the .hist() function doesn't process the categorical and count the kinds themselves. But it also made sense that categorial might need a different method to plot; also no need to adjust the number of bins I guess?\n",
    "\n",
    "Anyway, I tried to come up with the simplest solution I could come up with."
   ]
  },
  {
   "cell_type": "code",
   "execution_count": 90,
   "id": "satisfactory-qualification",
   "metadata": {
    "scrolled": false
   },
   "outputs": [
    {
     "data": {
      "application/vnd.jupyter.widget-view+json": {
       "model_id": "d750875b777a4798ad4986f9326d60f4",
       "version_major": 2,
       "version_minor": 0
      },
      "text/plain": [
       "interactive(children=(Dropdown(description='x_hist', options=('duration_seconds', 'latitude', 'longitude', 'sh…"
      ]
     },
     "metadata": {},
     "output_type": "display_data"
    }
   ],
   "source": [
    "@ipywidgets.interact(x_hist=['duration_seconds', 'latitude', 'longitude', 'shape'], \n",
    "                     hist_bins=(10,30,1))\n",
    "def ufo_hist(x_hist, hist_bins):\n",
    "    fig, ax = plt.subplots(figsize=(20,10))\n",
    "    \n",
    "    if hist_bins == 'shape':\n",
    "        ufosDS[hist_bins].value_counts().plot(kind='bar')\n",
    "        \n",
    "    elif hist_bins != 'shape':\n",
    "        ufosDS.hist(x_hist, bins=hist_bins, ax=ax)"
   ]
  },
  {
   "cell_type": "markdown",
   "id": "encouraging-adult",
   "metadata": {},
   "source": [
    "That was my simplest idea so far-block the string 'shape' from going into .hist() funciton and instead go with the way it worked right above. Another idea to make categorical data work was to use groupby, but I wasn't sure how exactly."
   ]
  },
  {
   "cell_type": "code",
   "execution_count": 95,
   "id": "defensive-percentage",
   "metadata": {},
   "outputs": [
    {
     "data": {
      "application/vnd.jupyter.widget-view+json": {
       "model_id": "a0dba90939424582a9ab3de95d7fdc56",
       "version_major": 2,
       "version_minor": 0
      },
      "text/plain": [
       "interactive(children=(Dropdown(description='x_hist', options=('duration_seconds', 'latitude', 'longitude', 'sh…"
      ]
     },
     "metadata": {},
     "output_type": "display_data"
    }
   ],
   "source": [
    "@ipywidgets.interact(x_hist=['duration_seconds', 'shape'], \n",
    "                     hist_bins=(10,30,1))\n",
    "def ufo_hist(x_hist, hist_bins):\n",
    "    fig, ax = plt.subplots(figsize=(20,10))\n",
    "    ufosDS[x_hist].value_counts().plot(kind='bar')"
   ]
  },
  {
   "cell_type": "markdown",
   "id": "three-affect",
   "metadata": {},
   "source": [
    "If I do it this way, then I can't let them change the number of bins; that's why I go read the instruction over and over again. I guess the number of bins should only be changable for numerical data.\n",
    "\n",
    "Problem from earlier was that if statement did not work."
   ]
  },
  {
   "cell_type": "code",
   "execution_count": 101,
   "id": "christian-plasma",
   "metadata": {},
   "outputs": [
    {
     "data": {
      "application/vnd.jupyter.widget-view+json": {
       "model_id": "5bbaad2210a64d86b9ec786cfc6f342c",
       "version_major": 2,
       "version_minor": 0
      },
      "text/plain": [
       "interactive(children=(Dropdown(description='a', options=(1, 2, [3, 4]), value=1), Output()), _dom_classes=('wi…"
      ]
     },
     "metadata": {},
     "output_type": "display_data"
    }
   ],
   "source": [
    "@ipywidgets.interact(a=[1,2,[3,4]])\n",
    "def test(a):\n",
    "    print(a)"
   ]
  },
  {
   "cell_type": "markdown",
   "id": "german-sleeping",
   "metadata": {},
   "source": [
    "With the test above, I now know I can't let them have choice within choice(like how it works on bookmark tab; you can have folder inside folder)"
   ]
  },
  {
   "cell_type": "code",
   "execution_count": 104,
   "id": "arranged-mounting",
   "metadata": {},
   "outputs": [
    {
     "data": {
      "application/vnd.jupyter.widget-view+json": {
       "model_id": "30a8d02c1c94403c8aee9bd2e08a2fc0",
       "version_major": 2,
       "version_minor": 0
      },
      "text/plain": [
       "interactive(children=(Dropdown(description='a', options=(1, 2), value=1), Output()), _dom_classes=('widget-int…"
      ]
     },
     "metadata": {},
     "output_type": "display_data"
    }
   ],
   "source": [
    "@ipywidgets.interact(a=[1,2])\n",
    "\n",
    "def test(a):\n",
    "    if a == 1:\n",
    "        print(\"it's one\")\n",
    "    elif a ==2:\n",
    "        print(\"it's not one\")"
   ]
  },
  {
   "cell_type": "markdown",
   "id": "neutral-planning",
   "metadata": {},
   "source": [
    "With this test, I know if statement works?"
   ]
  },
  {
   "cell_type": "code",
   "execution_count": 126,
   "id": "japanese-shoulder",
   "metadata": {
    "scrolled": false
   },
   "outputs": [
    {
     "data": {
      "application/vnd.jupyter.widget-view+json": {
       "model_id": "be82f6bb47cf4cffaa22238840804253",
       "version_major": 2,
       "version_minor": 0
      },
      "text/plain": [
       "interactive(children=(Dropdown(description='x_hist', options=('duration_seconds', 'longitude', 'latitude', 'sh…"
      ]
     },
     "metadata": {},
     "output_type": "display_data"
    }
   ],
   "source": [
    "@ipywidgets.interact(x_hist=['duration_seconds', 'longitude', 'latitude', 'shape'], \n",
    "                     hist_bins=(10,30,1))\n",
    "\n",
    "def ufo_hist(x_hist, hist_bins):\n",
    "#    a = hist_bins\n",
    "\n",
    "    \n",
    "    if x_hist == 'shape':\n",
    "#        print(\"it's shape\")\n",
    "        ufosDS[x_hist].value_counts().plot(kind='bar', figsize=[20,10], grid=True)\n",
    "#    elif x_hist == 'duration_seconds':\n",
    "#        ax=ufosDS.hist(x_hist, bins=hist_bins, figsize=[20,10])\n",
    "#        ax.set_yscale('log')\n",
    "#        plt.show()\n",
    "    else:\n",
    "#        print(\"it's not\")\n",
    "        ufosDS.hist(x_hist, bins=hist_bins, figsize=[20,10])\n",
    "        plt.show()"
   ]
  },
  {
   "cell_type": "markdown",
   "id": "vietnamese-butter",
   "metadata": {},
   "source": [
    "The commented out elif was my attempt of making the duration_seconds have yscale of log, but I wasn't sure why it wasn't working. It would've really helped the graph, but for now I'll be content that it works as intended at least.\n",
    "\n",
    "To answer the question I ended up using the same columns over this assignment: duration_seconds, long/lat, and shape. Duration_seconds was the only one with range of numbers, long/lat are numbers but are ultimately meant to be paired with each other to present geographical location (so I felt like it was pointless binning them, they were set of numbers nonetheless), and shape was my go to category due to having a bit more standarized range of data compared to say, comments.\n",
    "\n",
    "As for picking 2 columns at the same time, I think it's doable with groupby function. If I were to tackle the problem I would set up a temp dataframe of chosen two columns' groupby and plot it accordingly. As far as my current mental capacity goes, I can only think as far as following: it would require a pair of categorical and numerical-then plot as did on categorical data. A pair of categorical probably won't work. A pair of numerical data may work with a bit of extra steps I think; like finding means and such."
   ]
  }
 ],
 "metadata": {
  "kernelspec": {
   "display_name": "Python 3",
   "language": "python",
   "name": "python3"
  },
  "language_info": {
   "codemirror_mode": {
    "name": "ipython",
    "version": 3
   },
   "file_extension": ".py",
   "mimetype": "text/x-python",
   "name": "python",
   "nbconvert_exporter": "python",
   "pygments_lexer": "ipython3",
   "version": "3.7.9"
  }
 },
 "nbformat": 4,
 "nbformat_minor": 5
}
